{
 "cells": [
  {
   "cell_type": "markdown",
   "metadata": {},
   "source": [
    "## Report: Analysis of the @dog_rates tweets (Insights and Visuals Report)"
   ]
  },
  {
   "cell_type": "markdown",
   "metadata": {},
   "source": [
    "### First Steps\n",
    "Before proceeding to analysis and visualization, I made sure to grab a good understanding of the datasets, and preparing the data. This is to ensure poor quality, invalid, and unnecessary records are not pulled into the analysis phase which might consequently affect the insight and visuals.\n",
    "\n",
    "### Deep Dive\n",
    "To analyse the dataset, I made use of matplotlib library. From exploring the datasets, I got ideas of the key features to do an in-depth analysis on. The features analyzed are highlighted below:\n",
    "#### Insights\n",
    "1. **Which dog type is the favorite on Twitter?:** This was done to reveal the type of dog that is on the average, the most liked on twitter and also compare to other dog stages present there in. Is it the Puppo, or the Doggo, or the Pupper, or the Floofer? The puppo and doggo have the highest number of likes with 18,060 and 11,674 likes respectively.\n",
    "![Dog Type by likes](most_liked_dog.png)\n",
    "\n",
    "2. **Which dog stage has the average highest rating?:** Reveal which dog type has the average highest ratings. We can see from the chart below that each dog type has an average rating close in magnitude. However, the puppo dogs gets the highest average ratings by a slight margin. The pupper dog type has the lowest.\n",
    "![Average Dog Rating](avg_rating_dog.png)\n",
    "\n",
    "3. **Which dog stage is most tweeted about?:** This reveals the dog type that is most tweeted about. The pupper dog type is the most tweeted dog, having over 230 tweets. The floofer dog type has the least number of tweets having only 10 tweets.\n",
    "![Number of Tweets by Dog Type](dog_most_tweets.png)"
   ]
  }
 ],
 "metadata": {
  "kernelspec": {
   "display_name": "Python 3 (ipykernel)",
   "language": "python",
   "name": "python3"
  },
  "language_info": {
   "codemirror_mode": {
    "name": "ipython",
    "version": 3
   },
   "file_extension": ".py",
   "mimetype": "text/x-python",
   "name": "python",
   "nbconvert_exporter": "python",
   "pygments_lexer": "ipython3",
   "version": "3.9.12"
  }
 },
 "nbformat": 4,
 "nbformat_minor": 2
}
